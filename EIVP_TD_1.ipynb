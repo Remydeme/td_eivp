{
 "nbformat": 4,
 "nbformat_minor": 0,
 "metadata": {
  "colab": {
   "name": "EIVP_TD#1",
   "provenance": []
  },
  "kernelspec": {
   "name": "python3",
   "display_name": "Python 3"
  }
 },
 "cells": [
  {
   "cell_type": "raw",
   "source": [],
   "metadata": {
    "collapsed": false
   }
  },
  {
   "cell_type": "markdown",
   "source": [
    "Afin de traiter ces exercices vous aurez besoin de notions de bases en python.  \n",
    "\n",
    "## Boucle conditionnelle (if, else, elif):\n",
    "\n",
    "``` python\n",
    "if condition1:\n",
    "    instruction1\n",
    "elif condition2:\n",
    "    instruction2\n",
    "else:\n",
    "    instruction3\n",
    "```\n",
    "\n",
    "exemple:\n",
    "\n",
    "``` python\n",
    "if a > 0:\n",
    "    print(\"a est positif\")\n",
    "elif a < 0:\n",
    "    print(\"a est négatif\")\n",
    "else:\n",
    "    print(\"a est nul\")\n",
    "```\n",
    "\n",
    "\n",
    "## Boucle for:\n",
    "\n",
    "#### Methode 1 (sans index):\n",
    "\n",
    "``` python\n",
    "array = [1, 2, 3, 4, 5]\n",
    "for i in array:\n",
    "    print(i)\n",
    "```\n",
    "\n",
    "#### Methode 2 (avec index):\n",
    "\n",
    "``` python\n",
    "liste = [1, 2, 3, 4, 5]\n",
    "for i, element in enumerate(liste):\n",
    "    print(i, element)\n",
    "```\n",
    "\n",
    "## Boucle while:\n",
    "\n",
    "``` python\n",
    "i = 0\n",
    "while i < 10:\n",
    "    print(i)\n",
    "    i += 1\n",
    "```\n",
    "\n",
    "## Liste:\n",
    "\n",
    "``` python\n",
    "liste = [1, 2, 3, 4, 5]\n",
    "```\n",
    "\n",
    "## Dictionnaire:\n",
    "\n",
    "``` python\n",
    "dictionnaire = {\"cle1\": \"valeur1\", \"cle2\": \"valeur2\"}\n",
    "```"
   ],
   "metadata": {
    "collapsed": false
   }
  },
  {
   "cell_type": "markdown",
   "source": [
    "**Exercice 1:**\n",
    "\n",
    "Compléter la fonction is_palindrome afin de vérifier si une phrase est un palindrome ou non.\n",
    "Pour un rappeler, un palindrome est un mot ou groupe de mots qui peut se lire indifféremment de gauche à droite ou de droite à gauche en gardant le même sens (ex: Tenet)\n",
    "\n",
    "La fonction prend une chaine de caractère en entrée et retourne un booléen."
   ],
   "metadata": {
    "collapsed": false
   }
  },
  {
   "cell_type": "code",
   "metadata": {
    "id": "_db4tIJgVOWQ"
   },
   "source": [
    "def is_palindrome(a):\n",
    "    return True"
   ],
   "execution_count": 9,
   "outputs": []
  },
  {
   "cell_type": "code",
   "metadata": {
    "id": "dHk3Epe3V9o9"
   },
   "source": [
    "assert is_palindrome(\"Bonjour\") == False\n",
    "assert is_palindrome(\"TeneT\") == True"
   ],
   "execution_count": 10,
   "outputs": []
  },
  {
   "cell_type": "markdown",
   "metadata": {
    "id": "_iwPYYLHVST1"
   },
   "source": [
    "**Bonus:**\n",
    "\n",
    "La phrase \"Tu l'as trop écrasé, César, ce Port-Salut\" est un palindrome, mais est-ce que ta fonction le détecte ? Crée une fonction afin que ta fonction réussisse. Tu peux modifier voire supprimer des caractères pour le faire."
   ]
  },
  {
   "cell_type": "code",
   "metadata": {
    "id": "8IqKbqybhsQw"
   },
   "source": [
    "car = {\n",
    "        \"à\" : \"a\",\n",
    "        \"ä\" : \"a\"\n",
    "    }\n",
    "    \n",
    "def text_processing(a):\n",
    "    return a"
   ],
   "execution_count": 14,
   "outputs": []
  },
  {
   "cell_type": "code",
   "metadata": {
    "id": "2MraSrtXVWta"
   },
   "source": [
    "assert is_palindrom(text_processing(\"Tu l'as trop écrasé, César, ce Port-Salut\")) == True"
   ],
   "execution_count": 15,
   "outputs": []
  },
  {
   "cell_type": "markdown",
   "metadata": {
    "id": "wFn0L7ggVZak"
   },
   "source": [
    "Exercice 2:\n",
    "\n",
    "Passons au tri ! Completer les fonctions de tri à bulles et de tri par insertion.\n",
    "Le tri à bulles\n",
    "L'idée est de faire aller vers la fin de la liste les éléments les plus grands en les déplaçant de la manière suivante :\n",
    "\n",
    "1. On considère le premier élément de notre liste et on le compare au second. S'il est plus grand on les intervertit.\n",
    "2. On considère maintenant le second élément et on le compare au troisième. S'il est plus grand on les intervertit.\n",
    "3. On continue comme ça jusqu'à arriver à la fin de la liste. A cet étape, on a mis forcément l'élément le plus grand en fin de liste.\n",
    "4. On recommence les 3 premières étapes mais cette fois-ci en n'allant que jusqu'à l'avant-dernière position (puisque le plus grand est déjà en dernière position)\n",
    "5. On continue ainsi en diminuant à chaque fois l'endroit où on arrête les comparaisons.\n",
    "\n",
    "Ce tri s'appelle à bulles car à chaque étape, on fait remonter \"la bulle\" la plus grosse vers la fin de la liste.\n",
    "\n",
    "Pour des explications peut-être plus claires et des exemples on peut aller voir Wikipédia\n",
    "\n",
    "Le but de cet exercice est de faire un programme qui tri une liste en utilisant le tri à bulles."
   ]
  },
  {
   "cell_type": "code",
   "metadata": {
    "id": "bKHnCzEBVc2f"
   },
   "source": [
    "def bubbleSort(liste_a_trier):\n",
    "  return"
   ],
   "execution_count": 27,
   "outputs": []
  },
  {
   "cell_type": "code",
   "metadata": {
    "id": "Wnz1UQzIVdLA"
   },
   "source": [
    "arr = [64, 34, 25, 12, 22, 11, 90]\n",
    "bubbleSort(arr) \n",
    "assert arr == [11, 12, 22, 25, 34, 64, 90] "
   ],
   "execution_count": 28,
   "outputs": []
  },
  {
   "cell_type": "markdown",
   "metadata": {
    "id": "3kMiIlc_Vhja"
   },
   "source": [
    "Tri par insertion\n",
    "\n",
    "Le tri par insertion est similaire à la façon dont on range les cartes dans nos mains quand on joue. Quand on rajoute une carte dans un main déjà triée, on l'insère directement à sa place et on répète l'opération pour chaque carte à rajouter à notre main. L'idée du tri par insertion est la même :\n",
    "\n",
    "1. On commence au deuxième élément de la liste. On le met de coté (dans une variable). S'il est plus petit que le premier, on met le premier à la place du second et le second (qui était sauvegardé dans une var iable) à la place du premier.\n",
    "2. On considère maintenant le troisième élément. On le met de coté dans une variable. S'il est plus petit que le second, on met le second à la place du troisième. S'il est plus petit que le premier, on met le premier à la place du second.\n",
    "3. Ainsi de suite, en décalant à chaque fois d'un cran vers la droite tous les éléments qui sont plus grand que l'élément qu'on considère.\""
   ]
  },
  {
   "cell_type": "code",
   "metadata": {
    "id": "mqNAq72ZVeqT"
   },
   "source": [
    "def insertionSort(liste_a_trier):\n",
    "  return"
   ],
   "execution_count": 30,
   "outputs": []
  },
  {
   "cell_type": "code",
   "metadata": {
    "id": "0JXaaJTGVlZ-"
   },
   "source": [
    "arr = [64, 34, 25, 12, 22, 11, 90]\n",
    "insertionSort(arr) \n",
    "assert arr == [11, 12, 22, 25, 34, 64, 90] "
   ],
   "execution_count": 31,
   "outputs": []
  },
  {
   "cell_type": "markdown",
   "metadata": {
    "id": "sSNeOJSdVnO2"
   },
   "source": [
    "**Exercice 3:**\n",
    "\n",
    "Le QuickSort est un algorithme très connu de tri puisqu'il est l'un des plus efficace et polyvalent.\n",
    "Il prend un élément comme pivot et divise le tableau donné autour du pivot choisi. \n",
    "\n",
    "1. Choisissez un élément aléatoire, x, comme pivot (le dernier de la liste par exemple).\n",
    "\n",
    "2. Divisez la liste en deux : les éléments inférieurs à l'élément pivot, et les éléments supérieurs à l'élément pivot.\n",
    "\n",
    "3. Triez récursivement chacune des petites listes.\n",
    "\n",
    "![image.png](https://www.tutorialspoint.com/data_structures_algorithms/images/quick_sort_partition_animation.gif)"
   ]
  },
  {
   "cell_type": "markdown",
   "metadata": {
    "id": "WSjV-q-xkqNt"
   },
   "source": [
    "```\n",
    "partitionner(tableau T, entier premier, entier dernier, entier pivot)\n",
    "    échanger T[pivot] et T[dernier]  // échange le pivot avec le dernier du tableau , le pivot devient le dernier du tableau\n",
    "    j := premier\n",
    "    pour i de premier à dernier - 1 // la boucle se termine quand i = (dernier-1).\n",
    "        si T[i] <= T[dernier] alors\n",
    "            échanger T[i] et T[j]\n",
    "            j := j + 1\n",
    "    échanger T[dernier] et T[j]\n",
    "    renvoyer j\n",
    "\n",
    "tri_rapide(tableau T, entier premier, entier dernier)\n",
    "        si premier < dernier alors\n",
    "            pivot := choix_pivot(T, premier, dernier)\n",
    "            pivot := partitionner(T, premier, dernier, pivot)\n",
    "            tri_rapide(T, premier, pivot-1)\n",
    "            tri_rapide(T, pivot+1, dernier)\n",
    "```"
   ]
  },
  {
   "cell_type": "code",
   "metadata": {
    "id": "B6AJ7mKyVojD"
   },
   "source": [
    "def partition(arr, low, high):\n",
    "    return \n",
    "\n",
    "\n",
    "def quickSort(arr, low, high):\n",
    "    return"
   ],
   "execution_count": 16,
   "outputs": []
  },
  {
   "cell_type": "code",
   "metadata": {
    "id": "qEtlJ6XOVrhK"
   },
   "source": [
    "arr = [10, 7, 8, 9, 1, 5]\n",
    "quickSort(arr, 0, len(arr)-1)\n",
    "assert arr == [1, 5, 7, 8, 9, 10]"
   ],
   "execution_count": 21,
   "outputs": []
  },
  {
   "cell_type": "markdown",
   "metadata": {
    "id": "AvTO6_WZVnoN"
   },
   "source": [
    "Exercice 4 : Lire et trier un CSV\n",
    "\n",
    "Maintenant que nous avons implémenté des algorithmes, nous allons commencer à travailler avec de vraie donnée. Pour cela, il va déjà falloir apprendre à les manipuler. On vous propose d'utiliser Pandas, une bibliothèque très pratique pour la manipulation de donnée !\n",
    "\n",
    "1. Ouvrez le fichier CSV \"california_housing_test.csv\" qui se trouve dans le dossier \"sample_data\" dans l'interface de gauche et mettez-le dans une variable.\n",
    "2. Afficher les 3 premières lignes de ce CSV\n",
    "3. Trier les données par latitude croissante\n",
    "4. Afficher les 3 premières lignes des données triées\n",
    "\n",
    "Bonus: \n",
    "5. Afficher sous la forme de courbe les données non triées puis triées"
   ]
  },
  {
   "cell_type": "code",
   "metadata": {
    "id": "byy0Xn5GVuJu"
   },
   "source": [
    "#Importer Pandas"
   ],
   "execution_count": 32,
   "outputs": []
  },
  {
   "cell_type": "code",
   "metadata": {
    "id": "AtQ7zrAAVutf"
   },
   "source": [
    "#Creer une variable df et liser le fichier CSV"
   ],
   "execution_count": 39,
   "outputs": []
  },
  {
   "cell_type": "code",
   "metadata": {
    "id": "z7QU2hQMp-FI",
    "outputId": "e6e9cf8e-a6c1-400d-e20e-427b85761ea2",
    "colab": {
     "base_uri": "https://localhost:8080/",
     "height": 142
    }
   },
   "source": [
    "#Afficher les 3 premières lignes"
   ],
   "execution_count": 40,
   "outputs": [
    {
     "output_type": "execute_result",
     "data": {
      "text/html": [
       "<div>\n",
       "<style scoped>\n",
       "    .dataframe tbody tr th:only-of-type {\n",
       "        vertical-align: middle;\n",
       "    }\n",
       "\n",
       "    .dataframe tbody tr th {\n",
       "        vertical-align: top;\n",
       "    }\n",
       "\n",
       "    .dataframe thead th {\n",
       "        text-align: right;\n",
       "    }\n",
       "</style>\n",
       "<table border=\"1\" class=\"dataframe\">\n",
       "  <thead>\n",
       "    <tr style=\"text-align: right;\">\n",
       "      <th></th>\n",
       "      <th>longitude</th>\n",
       "      <th>latitude</th>\n",
       "      <th>housing_median_age</th>\n",
       "      <th>total_rooms</th>\n",
       "      <th>total_bedrooms</th>\n",
       "      <th>population</th>\n",
       "      <th>households</th>\n",
       "      <th>median_income</th>\n",
       "      <th>median_house_value</th>\n",
       "    </tr>\n",
       "  </thead>\n",
       "  <tbody>\n",
       "    <tr>\n",
       "      <th>0</th>\n",
       "      <td>-122.05</td>\n",
       "      <td>37.37</td>\n",
       "      <td>27.0</td>\n",
       "      <td>3885.0</td>\n",
       "      <td>661.0</td>\n",
       "      <td>1537.0</td>\n",
       "      <td>606.0</td>\n",
       "      <td>6.6085</td>\n",
       "      <td>344700.0</td>\n",
       "    </tr>\n",
       "    <tr>\n",
       "      <th>1</th>\n",
       "      <td>-118.30</td>\n",
       "      <td>34.26</td>\n",
       "      <td>43.0</td>\n",
       "      <td>1510.0</td>\n",
       "      <td>310.0</td>\n",
       "      <td>809.0</td>\n",
       "      <td>277.0</td>\n",
       "      <td>3.5990</td>\n",
       "      <td>176500.0</td>\n",
       "    </tr>\n",
       "    <tr>\n",
       "      <th>2</th>\n",
       "      <td>-117.81</td>\n",
       "      <td>33.78</td>\n",
       "      <td>27.0</td>\n",
       "      <td>3589.0</td>\n",
       "      <td>507.0</td>\n",
       "      <td>1484.0</td>\n",
       "      <td>495.0</td>\n",
       "      <td>5.7934</td>\n",
       "      <td>270500.0</td>\n",
       "    </tr>\n",
       "  </tbody>\n",
       "</table>\n",
       "</div>"
      ],
      "text/plain": [
       "   longitude  latitude  ...  median_income  median_house_value\n",
       "0    -122.05     37.37  ...         6.6085            344700.0\n",
       "1    -118.30     34.26  ...         3.5990            176500.0\n",
       "2    -117.81     33.78  ...         5.7934            270500.0\n",
       "\n",
       "[3 rows x 9 columns]"
      ]
     },
     "metadata": {
      "tags": []
     },
     "execution_count": 40
    }
   ]
  },
  {
   "cell_type": "code",
   "metadata": {
    "id": "Iv9l9_VwqisS",
    "outputId": "91a77897-1af7-4f32-ff5c-273613b4567b",
    "colab": {
     "base_uri": "https://localhost:8080/",
     "height": 142
    }
   },
   "source": [
    "#Trier et afficher les nouvelles 3 première lignes"
   ],
   "execution_count": 42,
   "outputs": [
    {
     "output_type": "execute_result",
     "data": {
      "text/html": [
       "<div>\n",
       "<style scoped>\n",
       "    .dataframe tbody tr th:only-of-type {\n",
       "        vertical-align: middle;\n",
       "    }\n",
       "\n",
       "    .dataframe tbody tr th {\n",
       "        vertical-align: top;\n",
       "    }\n",
       "\n",
       "    .dataframe thead th {\n",
       "        text-align: right;\n",
       "    }\n",
       "</style>\n",
       "<table border=\"1\" class=\"dataframe\">\n",
       "  <thead>\n",
       "    <tr style=\"text-align: right;\">\n",
       "      <th></th>\n",
       "      <th>longitude</th>\n",
       "      <th>latitude</th>\n",
       "      <th>housing_median_age</th>\n",
       "      <th>total_rooms</th>\n",
       "      <th>total_bedrooms</th>\n",
       "      <th>population</th>\n",
       "      <th>households</th>\n",
       "      <th>median_income</th>\n",
       "      <th>median_house_value</th>\n",
       "    </tr>\n",
       "  </thead>\n",
       "  <tbody>\n",
       "    <tr>\n",
       "      <th>1208</th>\n",
       "      <td>-117.09</td>\n",
       "      <td>32.56</td>\n",
       "      <td>8.0</td>\n",
       "      <td>864.0</td>\n",
       "      <td>156.0</td>\n",
       "      <td>626.0</td>\n",
       "      <td>172.0</td>\n",
       "      <td>4.8984</td>\n",
       "      <td>151500.0</td>\n",
       "    </tr>\n",
       "    <tr>\n",
       "      <th>2371</th>\n",
       "      <td>-117.08</td>\n",
       "      <td>32.57</td>\n",
       "      <td>18.0</td>\n",
       "      <td>2203.0</td>\n",
       "      <td>544.0</td>\n",
       "      <td>1943.0</td>\n",
       "      <td>497.0</td>\n",
       "      <td>2.2500</td>\n",
       "      <td>103200.0</td>\n",
       "    </tr>\n",
       "    <tr>\n",
       "      <th>1617</th>\n",
       "      <td>-117.12</td>\n",
       "      <td>32.57</td>\n",
       "      <td>35.0</td>\n",
       "      <td>1450.0</td>\n",
       "      <td>256.0</td>\n",
       "      <td>930.0</td>\n",
       "      <td>286.0</td>\n",
       "      <td>2.6715</td>\n",
       "      <td>133300.0</td>\n",
       "    </tr>\n",
       "  </tbody>\n",
       "</table>\n",
       "</div>"
      ],
      "text/plain": [
       "      longitude  latitude  ...  median_income  median_house_value\n",
       "1208    -117.09     32.56  ...         4.8984            151500.0\n",
       "2371    -117.08     32.57  ...         2.2500            103200.0\n",
       "1617    -117.12     32.57  ...         2.6715            133300.0\n",
       "\n",
       "[3 rows x 9 columns]"
      ]
     },
     "metadata": {
      "tags": []
     },
     "execution_count": 42
    }
   ]
  },
  {
   "cell_type": "code",
   "metadata": {
    "id": "F4ZAdtVaq1fM"
   },
   "source": [],
   "execution_count": null,
   "outputs": []
  }
 ]
}
